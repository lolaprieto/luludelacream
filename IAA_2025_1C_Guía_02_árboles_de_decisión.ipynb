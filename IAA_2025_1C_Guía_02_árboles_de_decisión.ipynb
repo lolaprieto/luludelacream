{
  "cells": [
    {
      "cell_type": "markdown",
      "metadata": {
        "id": "view-in-github",
        "colab_type": "text"
      },
      "source": [
        "<a href=\"https://colab.research.google.com/github/lolaprieto/luludelacream/blob/main/IAA_2025_1C_Gu%C3%ADa_02_%C3%A1rboles_de_decisi%C3%B3n.ipynb\" target=\"_parent\"><img src=\"https://colab.research.google.com/assets/colab-badge.svg\" alt=\"Open In Colab\"/></a>"
      ]
    },
    {
      "cell_type": "markdown",
      "metadata": {
        "id": "E6dVGCE8mwHT"
      },
      "source": [
        "# Introducción al Aprendizaje Automático\n",
        "\n",
        "## Aprendizaje Supervisado - Clasificación\n",
        "\n",
        "En este notebook comenzamos a trabajar en los problemas de **Clasificación**, una de las tareas más importantes dentro del Aprendizaje Automático (dentro, a su vez, de lo que llamamos Aprendizaje Supervisado). Clasificación en Aprendizaje Automático consiste en aprender etiquetas discretas *y* (target) a partir de un conjunto de atributos (features) *X* (que pueden ser uno, dos, o muchos más) tomando como muestra un conjunto de instancias y entrenando un *modelo*. La meta es que ese modelo ya entrenado pueda ser usado con nuevas observaciones de los features para predecir nuevos target.\n",
        "\n",
        "Vamos a comenzar introduciendo un dataset sintético de dos features y dos clases. Y trataremos de aprender a clasificarlo usando nuestro primer modelo, un Árbol de Decisión. Haremos esto utilizando la librería Scikit-Learn. Como muchas de las librerías del ecosistema de datos, tiene una documentación excelente, muy detallada y con ejemplos de uso. Muchas veces, para aprender a usar alguna herramienta de Scikit-Learn basta con copiar estos ejemplos y empezar a *jugar* con ellos. También contiene introducciones teóricas a muchos de los temas que son claras y concisas.\n",
        "\n",
        "### 1. Ejemplo demostrativo\n",
        "\n",
        "#### Conjunto de datos\n",
        "\n",
        "Para mostrar de forma clara los conceptos, utilizaremos un dataset artificial. Este consiste en dos variables ($x_1$ e $x_2$) que identifican un punto en el plano. Estos puntos pueden pertenecer a dos clases diferentes ($target = 0$ o $1$).\n",
        "\n",
        "**Ejercicio:** Importar los datos en el archivo `IAA_Guia_2_clasificacion_binaria.csv` a un DataFrame de Pandas y visuliza las primersa filas."
      ]
    },
    {
      "cell_type": "code",
      "execution_count": 13,
      "metadata": {
        "colab": {
          "base_uri": "https://localhost:8080/"
        },
        "id": "sNANyMsEmwHY",
        "outputId": "1abf3b3f-89b9-4de0-dd7d-20e9b6d89164"
      },
      "outputs": [
        {
          "output_type": "stream",
          "name": "stdout",
          "text": [
            "Drive already mounted at /content/drive; to attempt to forcibly remount, call drive.mount(\"/content/drive\", force_remount=True).\n"
          ]
        }
      ],
      "source": [
        "import pandas as pd\n",
        "import matplotlib.pyplot as plt\n",
        "import seaborn as sns\n",
        "from google.colab import drive\n",
        "drive.mount('/content/drive')"
      ]
    },
    {
      "cell_type": "code",
      "execution_count": 11,
      "metadata": {
        "colab": {
          "base_uri": "https://localhost:8080/",
          "height": 206
        },
        "id": "58CcWX6mmwHZ",
        "outputId": "6b2c2839-c161-462f-fcb0-4a197c1adef2"
      },
      "outputs": [
        {
          "output_type": "execute_result",
          "data": {
            "text/plain": [
              "         x1        x2  target\n",
              "0 -0.422635 -0.932620     1.0\n",
              "1 -3.036275  0.482545     0.0\n",
              "2 -0.634106 -0.040808     1.0\n",
              "3 -0.448945  0.330000     1.0\n",
              "4  0.293817  0.638174     1.0"
            ],
            "text/html": [
              "\n",
              "  <div id=\"df-5afb44bc-a21f-43e6-8aa1-cd0840973727\" class=\"colab-df-container\">\n",
              "    <div>\n",
              "<style scoped>\n",
              "    .dataframe tbody tr th:only-of-type {\n",
              "        vertical-align: middle;\n",
              "    }\n",
              "\n",
              "    .dataframe tbody tr th {\n",
              "        vertical-align: top;\n",
              "    }\n",
              "\n",
              "    .dataframe thead th {\n",
              "        text-align: right;\n",
              "    }\n",
              "</style>\n",
              "<table border=\"1\" class=\"dataframe\">\n",
              "  <thead>\n",
              "    <tr style=\"text-align: right;\">\n",
              "      <th></th>\n",
              "      <th>x1</th>\n",
              "      <th>x2</th>\n",
              "      <th>target</th>\n",
              "    </tr>\n",
              "  </thead>\n",
              "  <tbody>\n",
              "    <tr>\n",
              "      <th>0</th>\n",
              "      <td>-0.422635</td>\n",
              "      <td>-0.932620</td>\n",
              "      <td>1.0</td>\n",
              "    </tr>\n",
              "    <tr>\n",
              "      <th>1</th>\n",
              "      <td>-3.036275</td>\n",
              "      <td>0.482545</td>\n",
              "      <td>0.0</td>\n",
              "    </tr>\n",
              "    <tr>\n",
              "      <th>2</th>\n",
              "      <td>-0.634106</td>\n",
              "      <td>-0.040808</td>\n",
              "      <td>1.0</td>\n",
              "    </tr>\n",
              "    <tr>\n",
              "      <th>3</th>\n",
              "      <td>-0.448945</td>\n",
              "      <td>0.330000</td>\n",
              "      <td>1.0</td>\n",
              "    </tr>\n",
              "    <tr>\n",
              "      <th>4</th>\n",
              "      <td>0.293817</td>\n",
              "      <td>0.638174</td>\n",
              "      <td>1.0</td>\n",
              "    </tr>\n",
              "  </tbody>\n",
              "</table>\n",
              "</div>\n",
              "    <div class=\"colab-df-buttons\">\n",
              "\n",
              "  <div class=\"colab-df-container\">\n",
              "    <button class=\"colab-df-convert\" onclick=\"convertToInteractive('df-5afb44bc-a21f-43e6-8aa1-cd0840973727')\"\n",
              "            title=\"Convert this dataframe to an interactive table.\"\n",
              "            style=\"display:none;\">\n",
              "\n",
              "  <svg xmlns=\"http://www.w3.org/2000/svg\" height=\"24px\" viewBox=\"0 -960 960 960\">\n",
              "    <path d=\"M120-120v-720h720v720H120Zm60-500h600v-160H180v160Zm220 220h160v-160H400v160Zm0 220h160v-160H400v160ZM180-400h160v-160H180v160Zm440 0h160v-160H620v160ZM180-180h160v-160H180v160Zm440 0h160v-160H620v160Z\"/>\n",
              "  </svg>\n",
              "    </button>\n",
              "\n",
              "  <style>\n",
              "    .colab-df-container {\n",
              "      display:flex;\n",
              "      gap: 12px;\n",
              "    }\n",
              "\n",
              "    .colab-df-convert {\n",
              "      background-color: #E8F0FE;\n",
              "      border: none;\n",
              "      border-radius: 50%;\n",
              "      cursor: pointer;\n",
              "      display: none;\n",
              "      fill: #1967D2;\n",
              "      height: 32px;\n",
              "      padding: 0 0 0 0;\n",
              "      width: 32px;\n",
              "    }\n",
              "\n",
              "    .colab-df-convert:hover {\n",
              "      background-color: #E2EBFA;\n",
              "      box-shadow: 0px 1px 2px rgba(60, 64, 67, 0.3), 0px 1px 3px 1px rgba(60, 64, 67, 0.15);\n",
              "      fill: #174EA6;\n",
              "    }\n",
              "\n",
              "    .colab-df-buttons div {\n",
              "      margin-bottom: 4px;\n",
              "    }\n",
              "\n",
              "    [theme=dark] .colab-df-convert {\n",
              "      background-color: #3B4455;\n",
              "      fill: #D2E3FC;\n",
              "    }\n",
              "\n",
              "    [theme=dark] .colab-df-convert:hover {\n",
              "      background-color: #434B5C;\n",
              "      box-shadow: 0px 1px 3px 1px rgba(0, 0, 0, 0.15);\n",
              "      filter: drop-shadow(0px 1px 2px rgba(0, 0, 0, 0.3));\n",
              "      fill: #FFFFFF;\n",
              "    }\n",
              "  </style>\n",
              "\n",
              "    <script>\n",
              "      const buttonEl =\n",
              "        document.querySelector('#df-5afb44bc-a21f-43e6-8aa1-cd0840973727 button.colab-df-convert');\n",
              "      buttonEl.style.display =\n",
              "        google.colab.kernel.accessAllowed ? 'block' : 'none';\n",
              "\n",
              "      async function convertToInteractive(key) {\n",
              "        const element = document.querySelector('#df-5afb44bc-a21f-43e6-8aa1-cd0840973727');\n",
              "        const dataTable =\n",
              "          await google.colab.kernel.invokeFunction('convertToInteractive',\n",
              "                                                    [key], {});\n",
              "        if (!dataTable) return;\n",
              "\n",
              "        const docLinkHtml = 'Like what you see? Visit the ' +\n",
              "          '<a target=\"_blank\" href=https://colab.research.google.com/notebooks/data_table.ipynb>data table notebook</a>'\n",
              "          + ' to learn more about interactive tables.';\n",
              "        element.innerHTML = '';\n",
              "        dataTable['output_type'] = 'display_data';\n",
              "        await google.colab.output.renderOutput(dataTable, element);\n",
              "        const docLink = document.createElement('div');\n",
              "        docLink.innerHTML = docLinkHtml;\n",
              "        element.appendChild(docLink);\n",
              "      }\n",
              "    </script>\n",
              "  </div>\n",
              "\n",
              "\n",
              "<div id=\"df-cd12385a-56dd-4722-81a5-48fef27e02b4\">\n",
              "  <button class=\"colab-df-quickchart\" onclick=\"quickchart('df-cd12385a-56dd-4722-81a5-48fef27e02b4')\"\n",
              "            title=\"Suggest charts\"\n",
              "            style=\"display:none;\">\n",
              "\n",
              "<svg xmlns=\"http://www.w3.org/2000/svg\" height=\"24px\"viewBox=\"0 0 24 24\"\n",
              "     width=\"24px\">\n",
              "    <g>\n",
              "        <path d=\"M19 3H5c-1.1 0-2 .9-2 2v14c0 1.1.9 2 2 2h14c1.1 0 2-.9 2-2V5c0-1.1-.9-2-2-2zM9 17H7v-7h2v7zm4 0h-2V7h2v10zm4 0h-2v-4h2v4z\"/>\n",
              "    </g>\n",
              "</svg>\n",
              "  </button>\n",
              "\n",
              "<style>\n",
              "  .colab-df-quickchart {\n",
              "      --bg-color: #E8F0FE;\n",
              "      --fill-color: #1967D2;\n",
              "      --hover-bg-color: #E2EBFA;\n",
              "      --hover-fill-color: #174EA6;\n",
              "      --disabled-fill-color: #AAA;\n",
              "      --disabled-bg-color: #DDD;\n",
              "  }\n",
              "\n",
              "  [theme=dark] .colab-df-quickchart {\n",
              "      --bg-color: #3B4455;\n",
              "      --fill-color: #D2E3FC;\n",
              "      --hover-bg-color: #434B5C;\n",
              "      --hover-fill-color: #FFFFFF;\n",
              "      --disabled-bg-color: #3B4455;\n",
              "      --disabled-fill-color: #666;\n",
              "  }\n",
              "\n",
              "  .colab-df-quickchart {\n",
              "    background-color: var(--bg-color);\n",
              "    border: none;\n",
              "    border-radius: 50%;\n",
              "    cursor: pointer;\n",
              "    display: none;\n",
              "    fill: var(--fill-color);\n",
              "    height: 32px;\n",
              "    padding: 0;\n",
              "    width: 32px;\n",
              "  }\n",
              "\n",
              "  .colab-df-quickchart:hover {\n",
              "    background-color: var(--hover-bg-color);\n",
              "    box-shadow: 0 1px 2px rgba(60, 64, 67, 0.3), 0 1px 3px 1px rgba(60, 64, 67, 0.15);\n",
              "    fill: var(--button-hover-fill-color);\n",
              "  }\n",
              "\n",
              "  .colab-df-quickchart-complete:disabled,\n",
              "  .colab-df-quickchart-complete:disabled:hover {\n",
              "    background-color: var(--disabled-bg-color);\n",
              "    fill: var(--disabled-fill-color);\n",
              "    box-shadow: none;\n",
              "  }\n",
              "\n",
              "  .colab-df-spinner {\n",
              "    border: 2px solid var(--fill-color);\n",
              "    border-color: transparent;\n",
              "    border-bottom-color: var(--fill-color);\n",
              "    animation:\n",
              "      spin 1s steps(1) infinite;\n",
              "  }\n",
              "\n",
              "  @keyframes spin {\n",
              "    0% {\n",
              "      border-color: transparent;\n",
              "      border-bottom-color: var(--fill-color);\n",
              "      border-left-color: var(--fill-color);\n",
              "    }\n",
              "    20% {\n",
              "      border-color: transparent;\n",
              "      border-left-color: var(--fill-color);\n",
              "      border-top-color: var(--fill-color);\n",
              "    }\n",
              "    30% {\n",
              "      border-color: transparent;\n",
              "      border-left-color: var(--fill-color);\n",
              "      border-top-color: var(--fill-color);\n",
              "      border-right-color: var(--fill-color);\n",
              "    }\n",
              "    40% {\n",
              "      border-color: transparent;\n",
              "      border-right-color: var(--fill-color);\n",
              "      border-top-color: var(--fill-color);\n",
              "    }\n",
              "    60% {\n",
              "      border-color: transparent;\n",
              "      border-right-color: var(--fill-color);\n",
              "    }\n",
              "    80% {\n",
              "      border-color: transparent;\n",
              "      border-right-color: var(--fill-color);\n",
              "      border-bottom-color: var(--fill-color);\n",
              "    }\n",
              "    90% {\n",
              "      border-color: transparent;\n",
              "      border-bottom-color: var(--fill-color);\n",
              "    }\n",
              "  }\n",
              "</style>\n",
              "\n",
              "  <script>\n",
              "    async function quickchart(key) {\n",
              "      const quickchartButtonEl =\n",
              "        document.querySelector('#' + key + ' button');\n",
              "      quickchartButtonEl.disabled = true;  // To prevent multiple clicks.\n",
              "      quickchartButtonEl.classList.add('colab-df-spinner');\n",
              "      try {\n",
              "        const charts = await google.colab.kernel.invokeFunction(\n",
              "            'suggestCharts', [key], {});\n",
              "      } catch (error) {\n",
              "        console.error('Error during call to suggestCharts:', error);\n",
              "      }\n",
              "      quickchartButtonEl.classList.remove('colab-df-spinner');\n",
              "      quickchartButtonEl.classList.add('colab-df-quickchart-complete');\n",
              "    }\n",
              "    (() => {\n",
              "      let quickchartButtonEl =\n",
              "        document.querySelector('#df-cd12385a-56dd-4722-81a5-48fef27e02b4 button');\n",
              "      quickchartButtonEl.style.display =\n",
              "        google.colab.kernel.accessAllowed ? 'block' : 'none';\n",
              "    })();\n",
              "  </script>\n",
              "</div>\n",
              "\n",
              "    </div>\n",
              "  </div>\n"
            ],
            "application/vnd.google.colaboratory.intrinsic+json": {
              "type": "dataframe",
              "variable_name": "aa",
              "summary": "{\n  \"name\": \"aa\",\n  \"rows\": 450,\n  \"fields\": [\n    {\n      \"column\": \"x1\",\n      \"properties\": {\n        \"dtype\": \"number\",\n        \"std\": 1.7909556952698145,\n        \"min\": -5.460029978313116,\n        \"max\": 3.362464966344449,\n        \"num_unique_values\": 450,\n        \"samples\": [\n          -2.066057660368068,\n          -0.0187913482251682,\n          -3.9584803992962336\n        ],\n        \"semantic_type\": \"\",\n        \"description\": \"\"\n      }\n    },\n    {\n      \"column\": \"x2\",\n      \"properties\": {\n        \"dtype\": \"number\",\n        \"std\": 1.0215284082562865,\n        \"min\": -2.8631308696832534,\n        \"max\": 3.3600955542341326,\n        \"num_unique_values\": 450,\n        \"samples\": [\n          1.8848821411257848,\n          -0.1780043295702,\n          0.4532476496450106\n        ],\n        \"semantic_type\": \"\",\n        \"description\": \"\"\n      }\n    },\n    {\n      \"column\": \"target\",\n      \"properties\": {\n        \"dtype\": \"number\",\n        \"std\": 0.49745703244991785,\n        \"min\": 0.0,\n        \"max\": 1.0,\n        \"num_unique_values\": 2,\n        \"samples\": [\n          0.0,\n          1.0\n        ],\n        \"semantic_type\": \"\",\n        \"description\": \"\"\n      }\n    }\n  ]\n}"
            }
          },
          "metadata": {},
          "execution_count": 11
        }
      ],
      "source": [
        "aa = pd.read_csv(\"/content/drive/MyDrive/IAA/IAA_Guia_2_clasificacion_binaria.csv\")\n",
        "aa.head()"
      ]
    },
    {
      "cell_type": "markdown",
      "metadata": {
        "id": "H1wpg_BimwHZ"
      },
      "source": [
        "**Ejercicio:** graficar los datos usando la función `.plot` de pandas o `.scatter` de Matplotlib. Visualiza las clases pintando los puntos de diferente color."
      ]
    },
    {
      "cell_type": "code",
      "execution_count": 19,
      "metadata": {
        "colab": {
          "base_uri": "https://localhost:8080/",
          "height": 565
        },
        "id": "Sip3B3-UmwHZ",
        "outputId": "fe9b4128-31da-43f0-d6b8-c1b35409cf86"
      },
      "outputs": [
        {
          "output_type": "display_data",
          "data": {
            "text/plain": [
              "<Figure size 1000x600 with 1 Axes>"
            ],
            "image/png": "[encoded data removed]"
          },
          "metadata": {}
        }
      ],
      "source": [
        "plt.figure(figsize=(10, 6))\n",
        "sns.scatterplot(aa, x=\"x1\", y=\"x2\", hue=\"target\", alpha=0.7)\n",
        "plt.title(\"Relación entre x1 y x2 (por clase)\")\n",
        "plt.xlabel(\"x1\")\n",
        "plt.ylabel(\"x2\")\n",
        "plt.legend(title=\"Clase\")\n",
        "plt.show()"
      ]
    },
    {
      "cell_type": "markdown",
      "metadata": {
        "id": "ZqjKISjhmwHa"
      },
      "source": [
        "### 2. Primer Acercamiento a la clasificacion: Caso unidimensional.\n",
        "\n",
        "Imaginemos que queremos clasificar este conjunto de datos en\n",
        "\n",
        "---\n",
        "\n",
        "las dos clases provistas, utilizando solo la información de\n",
        "\n",
        "---\n",
        "\n",
        "una variable, por ejemplo $x_1$. El acercamiento mas sencillo consistiría en:\n",
        "- Establecer un valor de _umbral_ $x_u$\n",
        "- Clasificar segun si $x_1>x_u$\n",
        "\n",
        "Distintos valores de $x_u$ daran lugar a distintos resultados. Para medir que tan bueno o malo es el resultado, necesitamos de una metrica. Una metrica popular para clasificacion binaria de conjuntos de datos _balanceados_ (es decir, con similar cantidad de instancias en cada clase) es la _exactitud_ o _accuracy_. Esta no es otra cosa que la fracción de instancias bien clasificadas.\n",
        "\n",
        "**Para pensar:** ¿por qué será importante que los datos estén balancedos?\n",
        "\n",
        "**Ejercicio:**\n",
        "1. Grafique un histograma de la coordenada $x_1$ para cada clase.\n",
        "1. Elija (a ojo) un valor de umbral $x_u$\n",
        "1. Cree un vector con sus predicciones $pred$, y mida cual es la exactitud de su predicción. Para calcular la exactitud, basta con comparar el vector de predicciones $pred$ con el vector de etiquetas $y$ (*target*) y calcular la fracción de instancias en las que coinciden.\n",
        "1. Pruebe con distintos valores de umbral, tambien puede probar el mismo procedimiento en el atributos $x_2$. ¿Cual es el mejor _modelo_ que obtiene?"
      ]
    },
    {
      "cell_type": "code",
      "execution_count": 48,
      "metadata": {
        "colab": {
          "base_uri": "https://localhost:8080/",
          "height": 564
        },
        "id": "xhkK559TmwHa",
        "outputId": "30d1428e-be8f-41fd-af41-7696682c6d31"
      },
      "outputs": [
        {
          "output_type": "display_data",
          "data": {
            "text/plain": [
              "<Figure size 1000x600 with 1 Axes>"
            ],
            "image/png": "[encoded data removed]"
          },
          "metadata": {}
        }
      ],
      "source": [
        "#Grafique un histograma de la coordenada  x1  para cada clase.\n",
        "plt.figure(figsize=(10, 6))\n",
        "sns.histplot(aa, x=\"x1\", hue=\"target\", bins=20, edgecolor='black')\n",
        "plt.title(f'Histograma de x1 para cada clase')\n",
        "plt.xlabel(\"x1\")\n",
        "plt.axvline(x=-1.5, color=\"black\") #Elija a ojo un valor de umbral de xu\n",
        "plt.show()\n",
        "\n",
        "\n",
        "### ESTAS LINEAS PUEDEN SER UTILES\n",
        "#  ax.vlines(COMPLETAR)\n",
        "#  plt.axvlines(COMPLETAR)"
      ]
    },
    {
      "cell_type": "code",
      "execution_count": null,
      "metadata": {
        "id": "56HLoFz3mwHb"
      },
      "outputs": [],
      "source": [
        "x = df.x1.to_numpy()\n",
        "x_u = COMPLETAR\n",
        "pred = np.where(COMPLETAR)\n",
        "print(pred)"
      ]
    },
    {
      "cell_type": "code",
      "execution_count": null,
      "metadata": {
        "id": "mWmQfJPbmwHb"
      },
      "outputs": [],
      "source": [
        "t = df.target.to_numpy()\n",
        "acc = COMPLETAR\n",
        "print(f\"Exactitud (umbral = {x_u:.1f} ): {acc*100:.0f}%\")"
      ]
    },
    {
      "cell_type": "markdown",
      "metadata": {
        "id": "CdxBbOeYmwHb"
      },
      "source": [
        "Debajo hay un snippet para visualizar esta clasificación en el gráfico bidimensional. Asegúrate que el vector de predicciones se llama `pred`, el umbral elegido `x_u`, y el DataFrame `df` contenga las columnas originales `x1`, `x2` y `target`."
      ]
    },
    {
      "cell_type": "code",
      "execution_count": null,
      "metadata": {
        "id": "DdrljrRfmwHb"
      },
      "outputs": [],
      "source": [
        "plt.scatter(df[df.target==0].x1, df[df.target==0].x2, marker='o', c=pred[df.target==0], label='Clase 0')\n",
        "plt.scatter(df[df.target==1].x1, df[df.target==1].x2, marker='v', c=pred[df.target==1], label='Clase 1')\n",
        "plt.legend()\n",
        "plt.vlines(x_u,df.x2.min(), df.x2.max(), ls='-.', colors='black')\n",
        "plt.xlabel(\"x1\")\n",
        "plt.ylabel(\"x2\")\n",
        "plt.legend"
      ]
    },
    {
      "cell_type": "markdown",
      "metadata": {
        "id": "MsPMXn1_mwHc"
      },
      "source": [
        "### 3. Primer modelo: Árbol de decisión\n",
        "\n",
        "El primer modelo de clasificación que vamos a utilizar es un Árbol de decisión. Por ahora basta que consideres que es un objeto que, dadas varias instancias con un determinados grupo de features **X** y unas determinadas etiquetas objetivo **y**, el árbol de desición aprende **automáticamente** reglas (de mayor a menor importancia) sobre cada feature de manera de poder decidir qué etiqueta le corresponde a cada instancia.\n",
        "\n",
        "Si queremos entrenar un árbol de decisión para clasificar nuestras instancias, primero debemos crear un objeto correspondiente al modelo. Este objeto será de de la clase `DecisionTreeClassifier`, la cual importamos desde la librería Scikit-Learn. Te recomendamos **fuertemente** que te vayas familiarizando con su documentación, no importa si por ahora no entiendes todo."
      ]
    },
    {
      "cell_type": "code",
      "execution_count": null,
      "metadata": {
        "id": "5jUuNwlCmwHc"
      },
      "outputs": [],
      "source": [
        "from sklearn.tree import DecisionTreeClassifier\n",
        "\n",
        "# Creamos un objeto arbol\n",
        "clf = DecisionTreeClassifier(max_depth=3, random_state = 42)"
      ]
    },
    {
      "cell_type": "markdown",
      "metadata": {
        "id": "dn4SDgGamwHc"
      },
      "source": [
        "Hasta ahora, lo único que hicimos fue crear el objeto, nada más.\n",
        "\n",
        "Una vez que nuestro modelo fue creado, precisamos entrenarlo sobre nuestros datos. Esto lo logramos con el método `fit(...)` que poseen **todas** las clases correspondientes a modelos de Scikit-Learn. El método `fit(...)` necesita los atributos `X` y los target `y`.\n",
        "\n",
        "Las versiones nuevas de Scikit-Learn trabajan tanto con arreglos de NumPy como con DataFrames."
      ]
    },
    {
      "cell_type": "code",
      "execution_count": null,
      "metadata": {
        "id": "RqsIqQUYmwHc"
      },
      "outputs": [],
      "source": [
        "X = df.drop('target', axis=1)\n",
        "y = df['target']\n",
        "clf.fit(X, y)"
      ]
    },
    {
      "cell_type": "markdown",
      "metadata": {
        "id": "2sCxkSkymwHc"
      },
      "source": [
        "**¿Qué ocurrió?**\n",
        "\n",
        "El modelo ya está entrenado. Esto significa que contamos con una herramienta que, dadas ciertas características de una instancia - pares (*x1* y *x2*) - nos devuelve qué etiqueta *y* el modelo cree que le corresponde. Esto lo podemos hacer utilizando el método `predict(...)`, que también poseen **todas** las clases correspondientes a modelos de Scikit-Learn. Veamos algunos ejemplos:\n",
        "\n",
        "1. Inventando instancias"
      ]
    },
    {
      "cell_type": "code",
      "execution_count": null,
      "metadata": {
        "id": "0PgYEo7fmwHc"
      },
      "outputs": [],
      "source": [
        "### Inventamos una instancia\n",
        "\n",
        "instancia = np.array([-3,1]) # el primer valor corresponde a x1 y el segundo x2\n",
        "instancia = instancia.reshape(1,-1) # No te preocupes por ahora por el reshape. Es un requisito que quedará más claro después\n",
        "y_pred = clf.predict(instancia) # Hacemos la predicciṕn\n",
        "print(y_pred) # imprimimos en pantalla la predicción"
      ]
    },
    {
      "cell_type": "markdown",
      "metadata": {
        "id": "rwd-JNK8mwHd"
      },
      "source": [
        "¿Estás de acuerdo con la etiqueta asignada? Mirá en el gráfico del set de entrenamiento si estás de acuerdo con la etiqueta que nos devolvió.\n",
        "\n",
        "2. Tomando instancias del set de entrenamiento."
      ]
    },
    {
      "cell_type": "code",
      "execution_count": null,
      "metadata": {
        "id": "h_ZXsxRGmwHd"
      },
      "outputs": [],
      "source": [
        "### Tomamos las instancias al azar\n",
        "# np.random.seed(3) # si quieres que sea al azar, cambia la semilla o comenta esta linea.\n",
        "n = 318\n",
        "idxs = np.random.randint(len(X), size=3)\n",
        "instancias = X.iloc[idxs]\n",
        "print(instancias)"
      ]
    },
    {
      "cell_type": "code",
      "execution_count": null,
      "metadata": {
        "id": "uIRW_3PHmwHd"
      },
      "outputs": [],
      "source": [
        "### Predecimos\n",
        "y_pred = clf.predict(instancias)\n",
        "print(y_pred)\n",
        "\n",
        "### Comparamos la etiqueta real con la predicha:\n",
        "for i, idx in enumerate(idxs):\n",
        "    print(f'Instancia {idx}. Etiqueta real: {y[idx]}. Etiqueta predicha: {y_pred[i]}')"
      ]
    },
    {
      "cell_type": "markdown",
      "metadata": {
        "id": "6xkUs8n1mwHd"
      },
      "source": [
        "Ejecuta varias veces las celdas anteriores. ¿El modelo acierta siempre? Selecciona alguna instancia cuya etiqueta no funcione y observa sus valores. ¿Por qué crees que falla? Por ejemplo, la instancia 318 está mal clasificada."
      ]
    },
    {
      "cell_type": "code",
      "execution_count": null,
      "metadata": {
        "id": "bieso1IWmwHd"
      },
      "outputs": [],
      "source": [
        "k = 8\n",
        "plt.scatter(X.iloc[:, 0], X.iloc[:, 1], c=y, s=25, cmap='bwr', alpha = 0.5)\n",
        "plt.scatter(X.iloc[k, 0], X.iloc[k, 1], c = 'k', s=200, cmap='bwr', marker = '*')\n",
        "plt.xlabel('Atributo 1 - x1')\n",
        "plt.ylabel('Atributo 2 - x2')\n",
        "plt.show()"
      ]
    },
    {
      "cell_type": "markdown",
      "metadata": {
        "id": "4SnHpbIvmwHd"
      },
      "source": [
        "Volvamos sobre un aspecto del clasificador: dadas características *x1* y *x2* de una instancia, nos dice qué etiqueta *y* (0: azul, 1: rojo) le corresponde. Podemos pensar que el clasificador *pinta* el plano *x1*,*x2* de acuerdo al color que cree que corresponde. Si hay regiones azules y regiones rojas, debe existir una frontera donde el color cambie. Tratemos de visualizarla.\n",
        "\n",
        "La función que definimos en la siguiente celda nos permite explorar cómo es el dominio de decisión de nuestro arbol una vez que lo entrenamos."
      ]
    },
    {
      "cell_type": "code",
      "execution_count": null,
      "metadata": {
        "id": "2bQwORidmwHd"
      },
      "outputs": [],
      "source": [
        "# Función que nos ayuda a graficar\n",
        "# No hace falta que comprandan este bloque de código.\n",
        "def visualize_classifier(model, X, y, ax=None, proba = False):\n",
        "    if isinstance(X, pd.DataFrame):\n",
        "        X = X.values\n",
        "    if isinstance(y, pd.Series):\n",
        "        y = y.values\n",
        "    ax = ax or plt.gca()\n",
        "\n",
        "    colors_tab10 = plt.cm.tab10.colors\n",
        "\n",
        "    for i, y_value in enumerate(reversed(np.unique(y))):\n",
        "        ax.scatter(X[y==y_value, 0], X[y==y_value, 1], s=30,\n",
        "                   zorder=3, alpha = 0.5, color = colors_tab10[i])\n",
        "\n",
        "    ax.axis('tight')\n",
        "    ax.set_xlabel('x1')\n",
        "    ax.set_ylabel('x2')\n",
        "    # ax.axis('off')\n",
        "    xlim = ax.get_xlim()\n",
        "    ylim = ax.get_ylim()\n",
        "\n",
        "    xx, yy = np.meshgrid(np.linspace(*xlim, num=200),\n",
        "                         np.linspace(*ylim, num=200))\n",
        "\n",
        "    if proba:\n",
        "        Z = model.predict_proba(np.c_[xx.ravel(), yy.ravel()])[:,1].reshape(xx.shape)\n",
        "    else:\n",
        "        Z = model.predict(np.c_[xx.ravel(), yy.ravel()]).reshape(xx.shape)\n",
        "\n",
        "\n",
        "    # Create a color plot with the results\n",
        "    Z = -Z + 1\n",
        "    ax.pcolormesh(xx,yy,Z,cmap='bwr', vmin = 0, vmax=1, alpha = 0.2)\n",
        "\n",
        "    ax.set(xlim=xlim, ylim=ylim)\n",
        ""
      ]
    },
    {
      "cell_type": "code",
      "execution_count": null,
      "metadata": {
        "id": "M_QgFIuumwHd"
      },
      "outputs": [],
      "source": [
        "fig, axs=  plt.subplots(1,1, figsize = (7,5))\n",
        "visualize_classifier(clf, X, y, ax = axs)\n",
        "axs.set_xlabel('Atributo 1 - x1')\n",
        "axs.set_ylabel('Atributo 2 - x2')\n",
        "plt.show()"
      ]
    },
    {
      "cell_type": "markdown",
      "metadata": {
        "id": "dkC8oCyhmwHd"
      },
      "source": [
        "En este gráfico aquellos puntos (instancias) que queden sobre un fondo de su mismo color son aquellos que están bien clasificados por el modelo. Esto quiere decir que que si usamos el modelo para calificar su etiqueta *y* a partir de sus coordenadas *x1* y *x2*, éste nos daría la misma etiqueta original del punto. En cambio, aquellos puntos que queda sobre un fondo de otro color son puntos para los cuales el modelo nos estaría dando una etiqueta distinta a la etiqueta original de esa instancia.\n",
        "\n",
        "Nos podríamos preguntar luego: ¿cuál es el porcentaje de instancias bien clasificadas por el modelo? Para responder esto usaremos nuevamente el método `predict` sobre todo el dataset `X`. Luego con la función `accuracy_score` podemos calcular el porcentaje de aciertos que obtenemos al comparar nuestra predicción `y_pred` contra la clase original `y`. Recomendamos mirar la documentación de esta función. ¿Cómo dio con respecto a la exactitud que habías calculado antes?¿Qué diferencias encuentras entre el modelo del caso unidimensional y éste?"
      ]
    },
    {
      "cell_type": "code",
      "execution_count": null,
      "metadata": {
        "id": "1ANVvuOemwHe"
      },
      "outputs": [],
      "source": [
        "from sklearn.metrics import accuracy_score\n",
        "\n",
        "# Predecimos sobre nuestro set de entrenamieto\n",
        "y_pred = clf.predict(X)\n",
        "\n",
        "# Comaparamos con las etiquetas reales\n",
        "accuracy_score(y_pred,y)"
      ]
    },
    {
      "cell_type": "markdown",
      "metadata": {
        "id": "NIpR4HJFmwHe"
      },
      "source": [
        "**Ejercicio:** visualizar el árbol obtenido con la función `plot_tree()` del módulo `tree` de Scikit-Learn. ¿Qué conclusiones puede sacar de la visualización?¿Cómo se relaciona con el caso unidimensional?"
      ]
    },
    {
      "cell_type": "code",
      "execution_count": null,
      "metadata": {
        "id": "TqQh81PGmwHe"
      },
      "outputs": [],
      "source": [
        "# COMPLETAR"
      ]
    },
    {
      "cell_type": "markdown",
      "metadata": {
        "id": "mnt0gJofmwHe"
      },
      "source": [
        "**Ejercicio:** modificar el parámetro `max_depth` del árbol de decisión y observar cómo se modifican las fronteras de decisión y el `accuracy_score`. Primero hazlo de manera manual, y luego de manera programática con un for-loop."
      ]
    },
    {
      "cell_type": "code",
      "execution_count": null,
      "metadata": {
        "id": "s2hbWev4mwHe"
      },
      "outputs": [],
      "source": [
        "# COMPLETAR"
      ]
    },
    {
      "cell_type": "markdown",
      "metadata": {
        "id": "MfWJBFsXmwHe"
      },
      "source": [
        "## Más ejercicios\n",
        "\n",
        "\n",
        "**Ejercicio - Para pensar y probar**:\n",
        "1. Hay algunas características de esta formulación que tal vez te llamen la atención. En el caso binario, un problema de clasificación consiste en encontrar una **frontera** entre puntos que deje a un lado los que pertenecen a una clase, y del otro lado los puntos de la otra clase. Para convencerse (¡o no!):\n",
        "\n",
        "1. Elegir un problema de Clasificación Binario (al estilo Spam/No-Spam, Titanic Sobrevivió/No-Sobrevivió, etc.). Inventar - a mano - dos atributos, algunas instancias, y graficar. Luego, dibujar una frontera de decisión (siempre a mano, no tienen que programar). Un ejemplo podría ser: para clasificar vinos blancos y vinos tintos, un atributo podría ser el color y el otro podría ser el dulzor. Para el mismo problema, dibuja un árbol de decisión y visualiza la frontera de decisión de ese árbol. ¿Se parece a la frontera que dibujaste al comienzo?¿Qué características tienen las fronteras obtenidas con árboles de decisión?\n",
        "\n",
        "1. ¿Qué ocurre si en lugar de dos atributos tenemos tres?¿Qué forma tendrá la frontera? Y si en vez de tres atributos tenemos cuatro?¿Se podrá visualizar?\n",
        "\n",
        "1. **Extra:** googlea qué es la maldición de la dimensión/dimensionalidad (curse of dimensionality).\n",
        "    \n",
        "\n",
        "\n",
        "**Ejercicio - Pingüinos:**\n",
        "La tarea que vamos a realizar es la siguiente: queremos clasificar pingüinos según su sexo (macho y hembra). Para ello:\n",
        "\n",
        "1. Cargue el conjunto de datos.\n",
        "\n",
        "1. Selecciona un atributo y el target. ¿Cuál atributo elegirías? ¿Por qué? Estima un umbral a mano como hicimos en la primera parte, clasifica y visualiza.\n",
        "\n",
        "1. Selecciona ahora dos atributos y utiliza un modelo de árboles de decisión. Calcula la exactitud obtenida y visualiza la frontera de decisión. También, visualiza el árbol obtenido (`plot_tree`). ¿Qué resultados obtienes? ¿Qué atributos elegiste?¿Por qué?¿Dónde falla?¿Hay algo que se pueda hacer al respecto?\n",
        "\n",
        "1. Prueba con todos los atributos que quieras. Calcula la exactitud obtenida y, si creés que se puede, visualiza la frontera de decisión.\n",
        "\n",
        "**Ejercicio - Cálculo de impureza:**\n",
        "1. Calcula la impureza inicial del dataset de pingüinos, considerando el target *sexo*.\n",
        "1. Calcula la ganancia Gini luego de separar por el atributo `body_mass_g` en un valor de 4200. ¿Qué ganancia resulta?¿Y si separas en 4000?¿Y si separas en 4300?¿Cuál es la mejor separación?¿Concuerda con lo visto hasta ahora? Recuerden que tienen que calcular la impureza en dos hojas - una correspondiente al caso *mayor* y otra al *menor* - y luego hacer un promedio ponderado.\n",
        "\n",
        "**Ejercicio - Muy importante - Dataset TP final:** Aplica lo visto hoy al dataset que utilizaron para el TP final. ¿Qué resultados obtienes?¿Qué atributos elegiste?¿Por qué?¿Dónde falla?¿Hay algo que se pueda hacer al respecto?\n"
      ]
    }
  ],
  "metadata": {
    "kernelspec": {
      "display_name": "Python 3 (ipykernel)",
      "language": "python",
      "name": "python3"
    },
    "language_info": {
      "codemirror_mode": {
        "name": "ipython",
        "version": 3
      },
      "file_extension": ".py",
      "mimetype": "text/x-python",
      "name": "python",
      "nbconvert_exporter": "python",
      "pygments_lexer": "ipython3",
      "version": "3.13.2"
    },
    "colab": {
      "provenance": [],
      "include_colab_link": true
    }
  },
  "nbformat": 4,
  "nbformat_minor": 0
}