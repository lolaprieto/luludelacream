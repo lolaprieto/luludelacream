{
  "cells": [
    {
      "cell_type": "markdown",
      "metadata": {
        "id": "view-in-github",
        "colab_type": "text"
      },
      "source": [
        "<a href=\"https://colab.research.google.com/github/lolaprieto/luludelacream/blob/main/IAA_Clase_2_Demo.ipynb\" target=\"_parent\"><img src=\"https://colab.research.google.com/assets/colab-badge.svg\" alt=\"Open In Colab\"/></a>"
      ]
    },
    {
      "cell_type": "code",
      "execution_count": 1,
      "metadata": {
        "id": "c8uTB0Z0qljo"
      },
      "outputs": [],
      "source": [
        "import pandas as pd\n",
        "import matplotlib.pyplot as plt\n",
        "import seaborn as sns\n",
        "import numpy as np"
      ]
    },
    {
      "cell_type": "code",
      "source": [
        "from google.colab import drive\n",
        "drive.mount('/content/drive')"
      ],
      "metadata": {
        "id": "CLplWuPV_xv4"
      },
      "execution_count": null,
      "outputs": []
    },
    {
      "cell_type": "markdown",
      "metadata": {
        "id": "ZWucFlMmqljp"
      },
      "source": [
        "## 1. Análisis Exploratorio de Datos"
      ]
    },
    {
      "cell_type": "code",
      "execution_count": null,
      "metadata": {
        "id": "9WJ5KRnZqljr"
      },
      "outputs": [],
      "source": [
        "# Cargar el dataset\n",
        "data = pd.read_csv('/content/drive/MyDrive/penguins_size.csv')\n",
        "data.sample(5)"
      ]
    },
    {
      "cell_type": "code",
      "source": [
        "data.shape"
      ],
      "metadata": {
        "id": "ERyQi7DUAUw7"
      },
      "execution_count": null,
      "outputs": []
    },
    {
      "cell_type": "code",
      "source": [
        "data.info()"
      ],
      "metadata": {
        "id": "vN2qlGPOBukw"
      },
      "execution_count": null,
      "outputs": []
    },
    {
      "cell_type": "code",
      "source": [
        "data.describe().style.format(\"{:0.2f}\")"
      ],
      "metadata": {
        "id": "ziekZtclByE-"
      },
      "execution_count": null,
      "outputs": []
    },
    {
      "cell_type": "markdown",
      "metadata": {
        "id": "ThzoBQUIqljs"
      },
      "source": [
        "**Datos Faltantes**"
      ]
    },
    {
      "cell_type": "code",
      "execution_count": null,
      "metadata": {
        "id": "B4v_Dqrtqljs"
      },
      "outputs": [],
      "source": [
        "data.isna().sum()"
      ]
    },
    {
      "cell_type": "code",
      "execution_count": null,
      "metadata": {
        "id": "MTPgLtE9qljt"
      },
      "outputs": [],
      "source": [
        "data.dropna(inplace=True)\n",
        "\n",
        "# Cambia el shape?\n"
      ]
    },
    {
      "cell_type": "markdown",
      "metadata": {
        "id": "9fg-TzQQqljt"
      },
      "source": [
        "**Especies**"
      ]
    },
    {
      "cell_type": "code",
      "execution_count": null,
      "metadata": {
        "id": "ycMh9zeHqlju"
      },
      "outputs": [],
      "source": [
        "data.species.value_counts()"
      ]
    },
    {
      "cell_type": "markdown",
      "metadata": {
        "id": "AsdZpEpAqlju"
      },
      "source": [
        "Hipótesis 1: La masa es un buen atributo para diferenciar las especies."
      ]
    },
    {
      "cell_type": "code",
      "source": [
        "data.groupby('species').body_mass_g.mean()"
      ],
      "metadata": {
        "id": "MZM6wHPO_9p_"
      },
      "execution_count": null,
      "outputs": []
    },
    {
      "cell_type": "code",
      "execution_count": null,
      "metadata": {
        "id": "Eh5BN0N0qljv"
      },
      "outputs": [],
      "source": [
        "data.body_mass_g.hist(bins=20, rwidth=0.9)\n",
        "plt.xlabel('Peso (g)')\n",
        "plt.ylabel('Cuentas');"
      ]
    },
    {
      "cell_type": "code",
      "execution_count": null,
      "metadata": {
        "id": "pbbdyNmvqljv"
      },
      "outputs": [],
      "source": [
        "sns.displot(data, x='body_mass_g', hue='species', kind='hist', bins=20)\n",
        "plt.xlabel('Peso (g)')\n",
        "plt.ylabel('Cuentas');"
      ]
    },
    {
      "cell_type": "markdown",
      "metadata": {
        "id": "hZDu9qKJqljw"
      },
      "source": [
        "Hipótesis 2: Características del pico son buenos atributos para diferenciar las especies."
      ]
    },
    {
      "cell_type": "code",
      "execution_count": null,
      "metadata": {
        "id": "cy6YaYntqljw"
      },
      "outputs": [],
      "source": [
        "fig, axs = plt.subplots(1, 2, figsize=(12, 4))\n",
        "\n",
        "sns.histplot(data, x='culmen_length_mm', hue='species', ax=axs[0])\n",
        "sns.histplot(data, x='culmen_depth_mm', hue='species', ax=axs[1])\n"
      ]
    },
    {
      "cell_type": "markdown",
      "metadata": {
        "id": "tJjLFiJlqljw"
      },
      "source": [
        "¿Y si las combinamos?"
      ]
    },
    {
      "cell_type": "code",
      "execution_count": null,
      "metadata": {
        "id": "hl5dL0Cfqljx"
      },
      "outputs": [],
      "source": [
        "sns.scatterplot(data=data, x='culmen_length_mm', y='culmen_depth_mm', hue='species')"
      ]
    },
    {
      "cell_type": "markdown",
      "metadata": {
        "id": "Huzvoo8Sqljx"
      },
      "source": [
        "Todas juntas"
      ]
    },
    {
      "cell_type": "code",
      "execution_count": null,
      "metadata": {
        "id": "aNjMzs6Zqljx"
      },
      "outputs": [],
      "source": [
        "sns.pairplot(data, hue='species', diag_kind='hist')"
      ]
    },
    {
      "cell_type": "markdown",
      "metadata": {
        "id": "ox73kTxXqljx"
      },
      "source": [
        "### Entrenamiento de un modelo de clasificación\n",
        "\n",
        "**Dos atributos**"
      ]
    },
    {
      "cell_type": "code",
      "execution_count": null,
      "metadata": {
        "id": "oF7P6Mz0qljx"
      },
      "outputs": [],
      "source": [
        "from sklearn.tree import DecisionTreeClassifier\n",
        "from sklearn.metrics import accuracy_score\n",
        "from sklearn.model_selection import train_test_split # Mas sobre esto el martes!"
      ]
    },
    {
      "cell_type": "code",
      "execution_count": null,
      "metadata": {
        "id": "zHhdF1jdqljy"
      },
      "outputs": [],
      "source": [
        "# Separar características y etiqueta\n",
        "X = data[['culmen_length_mm', 'culmen_depth_mm']]\n",
        "y = data['species']"
      ]
    },
    {
      "cell_type": "code",
      "execution_count": null,
      "metadata": {
        "id": "yPK626YLqljy"
      },
      "outputs": [],
      "source": [
        "# Dividir el dataset en conjunto de entrenamiento y prueba\n",
        "X_train, X_test, y_train, y_test = train_test_split(X, y, test_size=0.3, random_state=42)"
      ]
    },
    {
      "cell_type": "code",
      "execution_count": null,
      "metadata": {
        "id": "1iLiY3OOqljy"
      },
      "outputs": [],
      "source": [
        "# Crear y entrenar el modelo de Árbol de Decisión\n",
        "tree_model = DecisionTreeClassifier(random_state=42, max_depth=3)\n",
        "tree_model.fit(X_train, y_train)"
      ]
    },
    {
      "cell_type": "code",
      "execution_count": null,
      "metadata": {
        "id": "uNtmA58Fqljy"
      },
      "outputs": [],
      "source": [
        "# Visualizar árbol\n",
        "from sklearn.tree import plot_tree\n",
        "plt.figure(figsize=(20, 10))\n",
        "plot_tree(tree_model, feature_names=X.columns, class_names=y.unique(),\n",
        "          filled=True, impurity=True, rounded=True)\n",
        "plt.show()"
      ]
    },
    {
      "cell_type": "markdown",
      "metadata": {
        "id": "D1Gsj1acqljz"
      },
      "source": [
        "**Fronteras de decisión**"
      ]
    },
    {
      "cell_type": "code",
      "execution_count": null,
      "metadata": {
        "id": "xFKAkf72qljz"
      },
      "outputs": [],
      "source": [
        "# Función que nos ayuda a graficar\n",
        "def visualize_classifier(model, X, y, ax=None, proba=False):\n",
        "    col1 = X.columns[0]\n",
        "    col2 = X.columns[1]\n",
        "\n",
        "    if isinstance(X, pd.DataFrame):\n",
        "        X = X.values\n",
        "    if isinstance(y, pd.Series):\n",
        "        y = y.values\n",
        "    ax = ax or plt.gca()\n",
        "    colors_tab10 = plt.cm.tab10.colors\n",
        "\n",
        "    for i, label in enumerate(np.unique(model.classes_)):\n",
        "        ax.scatter(X[y==label, 0], X[y==label, 1], s=30,\n",
        "                   zorder=3, alpha=0.5, color=colors_tab10[i], label=label)\n",
        "\n",
        "    ax.axis('tight')\n",
        "    ax.set_xlabel(col1)\n",
        "    ax.set_ylabel(col2)\n",
        "    xlim = ax.get_xlim()\n",
        "    ylim = ax.get_ylim()\n",
        "\n",
        "    xx, yy = np.meshgrid(np.linspace(*xlim, num=200), np.linspace(*ylim, num=200))\n",
        "    Z = model.predict(pd.DataFrame(np.c_[xx.ravel(), yy.ravel()], columns=[col1, col2])).reshape(xx.shape)\n",
        "    for i, label in enumerate(np.unique(model.classes_)):\n",
        "        Z = np.where(Z == label, i, Z)\n",
        "\n",
        "    Z = Z.astype(np.float32)\n",
        "    ax.pcolormesh(xx, yy, Z, cmap='tab10', alpha=0.3)\n",
        "    ax.set(xlim=xlim, ylim=ylim)"
      ]
    },
    {
      "cell_type": "code",
      "execution_count": null,
      "metadata": {
        "id": "INR_Sp97qljz"
      },
      "outputs": [],
      "source": [
        "visualize_classifier(tree_model, X_train, y_train)"
      ]
    },
    {
      "cell_type": "markdown",
      "metadata": {
        "id": "DDSf1c5wqljz"
      },
      "source": [
        "**Evaluación del modelo**"
      ]
    },
    {
      "cell_type": "code",
      "execution_count": null,
      "metadata": {
        "id": "lxOd97d0qljz"
      },
      "outputs": [],
      "source": [
        "# Predecir y evaluar el modelo\n",
        "y_test_pred = tree_model.predict(X_test)\n",
        "accuracy = accuracy_score(y_test, y_test_pred)"
      ]
    },
    {
      "cell_type": "code",
      "execution_count": null,
      "metadata": {
        "id": "jvMqtFsQqlj0"
      },
      "outputs": [],
      "source": [
        "print(\"Accuracy del modelo:\", accuracy)"
      ]
    },
    {
      "cell_type": "markdown",
      "metadata": {
        "id": "hvWmno66qlj0"
      },
      "source": [
        "**Importancia de cada atributo**"
      ]
    },
    {
      "cell_type": "code",
      "execution_count": null,
      "metadata": {
        "id": "HQZhrdvJqlj0"
      },
      "outputs": [],
      "source": [
        "# Gráfico de barras con la importancia de cada atributo, ordenadas\n",
        "importances = tree_model.feature_importances_\n",
        "indices = np.argsort(importances)[::-1]\n",
        "\n",
        "plt.figure()\n",
        "plt.title(\"Importancia de los atributos\")\n",
        "plt.bar(range(X.shape[1]), importances[indices], align=\"center\")\n",
        "plt.xticks(range(X.shape[1]), np.array(X.columns)[indices], rotation=90)\n",
        "plt.show()"
      ]
    },
    {
      "cell_type": "code",
      "source": [],
      "metadata": {
        "id": "I_HSv9lx7akt"
      },
      "execution_count": null,
      "outputs": []
    }
  ],
  "metadata": {
    "kernelspec": {
      "display_name": "base",
      "language": "python",
      "name": "python3"
    },
    "language_info": {
      "codemirror_mode": {
        "name": "ipython",
        "version": 3
      },
      "file_extension": ".py",
      "mimetype": "text/x-python",
      "name": "python",
      "nbconvert_exporter": "python",
      "pygments_lexer": "ipython3",
      "version": "3.10.8"
    },
    "colab": {
      "provenance": [],
      "include_colab_link": true
    }
  },
  "nbformat": 4,
  "nbformat_minor": 0
}